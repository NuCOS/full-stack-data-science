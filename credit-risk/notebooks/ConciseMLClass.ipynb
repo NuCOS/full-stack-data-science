{
 "cells": [
  {
   "cell_type": "markdown",
   "metadata": {},
   "source": [
    "# Credit Risk Model"
   ]
  },
  {
   "cell_type": "code",
   "execution_count": 2,
   "metadata": {},
   "outputs": [],
   "source": [
    "## Frame - Predict Default\n",
    "import numpy as np\n",
    "import pandas as pd"
   ]
  },
  {
   "cell_type": "code",
   "execution_count": 5,
   "metadata": {},
   "outputs": [],
   "source": [
    "# Acquire the Data\n",
    "df = pd.read_csv(\"../../loanize.csv\")"
   ]
  },
  {
   "cell_type": "code",
   "execution_count": 6,
   "metadata": {},
   "outputs": [],
   "source": [
    "# Refine the Data\n",
    "df.years.fillna(df.years.median(), inplace = True)"
   ]
  },
  {
   "cell_type": "code",
   "execution_count": 18,
   "metadata": {},
   "outputs": [],
   "source": [
    "# Transform the Data - Log Normalize\n",
    "df['log_age'] = np.log(df.age)\n",
    "df['log_income'] = np.log(df.income)\n",
    "df['log_amount'] = np.log(df.amount)\n",
    "df['log_years'] = np.log(df.years + 0.00001)"
   ]
  },
  {
   "cell_type": "code",
   "execution_count": 37,
   "metadata": {},
   "outputs": [],
   "source": [
    "# Transform - Encoding Label Encoding\n",
    "from sklearn.preprocessing import LabelEncoder, OneHotEncoder\n",
    "grade_encoder = LabelEncoder().fit(df.grade)\n",
    "df['grade_label'] = grade_encoder.transform(df.grade)\n",
    "ownership_encoder = LabelEncoder().fit(df.ownership)\n",
    "df['ownership_label'] = ownership_encoder.transform(df.ownership)"
   ]
  },
  {
   "cell_type": "code",
   "execution_count": 65,
   "metadata": {},
   "outputs": [],
   "source": [
    "# Model - Features & Target\n",
    "X = df.iloc[:,7:13]\n",
    "y = df.iloc[:,0]"
   ]
  },
  {
   "cell_type": "code",
   "execution_count": 69,
   "metadata": {},
   "outputs": [],
   "source": [
    "# Model Creation\n",
    "from sklearn.ensemble import RandomForestClassifier\n",
    "clf = RandomForestClassifier(random_state=1234, max_depth=5)"
   ]
  },
  {
   "cell_type": "code",
   "execution_count": 70,
   "metadata": {},
   "outputs": [
    {
     "data": {
      "text/plain": [
       "0.6843924134801082"
      ]
     },
     "execution_count": 70,
     "metadata": {},
     "output_type": "execute_result"
    }
   ],
   "source": [
    "# Model Selection\n",
    "from sklearn.model_selection import cross_val_score\n",
    "score = cross_val_score(clf, X, y, scoring=\"roc_auc\", cv=5, n_jobs=-1)\n",
    "np.mean(score)"
   ]
  },
  {
   "cell_type": "code",
   "execution_count": 79,
   "metadata": {},
   "outputs": [
    {
     "name": "stdout",
     "output_type": "stream",
     "text": [
      "Fitting 5 folds for each of 18 candidates, totalling 90 fits\n"
     ]
    },
    {
     "name": "stderr",
     "output_type": "stream",
     "text": [
      "[Parallel(n_jobs=-1)]: Done  54 tasks      | elapsed:   20.1s\n",
      "[Parallel(n_jobs=-1)]: Done  90 out of  90 | elapsed:   45.7s finished\n"
     ]
    },
    {
     "data": {
      "text/plain": [
       "({'max_depth': 15, 'n_estimators': 100}, 0.6577153703464044)"
      ]
     },
     "execution_count": 79,
     "metadata": {},
     "output_type": "execute_result"
    }
   ],
   "source": [
    "# Model Tuning\n",
    "from sklearn.model_selection import GridSearchCV\n",
    "parameters = {\"n_estimators\": [10, 50 ,100, 200, 300, 400], \"max_depth\": [5, 10, 15]}\n",
    "clf2 = GridSearchCV(clf, parameters, return_train_score=True, cv=5, verbose=1, n_jobs=-1)\n",
    "clf2.fit(X,y)\n",
    "clf2.best_params_, np.mean(clf2.cv_results_['mean_test_score'])"
   ]
  },
  {
   "cell_type": "code",
   "execution_count": null,
   "metadata": {},
   "outputs": [],
   "source": [
    "GridSearchCV"
   ]
  }
 ],
 "metadata": {
  "kernelspec": {
   "display_name": "Python 3",
   "language": "python",
   "name": "python3"
  },
  "language_info": {
   "codemirror_mode": {
    "name": "ipython",
    "version": 3
   },
   "file_extension": ".py",
   "mimetype": "text/x-python",
   "name": "python",
   "nbconvert_exporter": "python",
   "pygments_lexer": "ipython3",
   "version": "3.6.4"
  }
 },
 "nbformat": 4,
 "nbformat_minor": 2
}
